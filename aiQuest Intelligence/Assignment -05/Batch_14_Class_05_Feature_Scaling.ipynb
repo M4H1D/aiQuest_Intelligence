{
  "cells": [
    {
      "cell_type": "code",
      "execution_count": null,
      "id": "913a4884",
      "metadata": {
        "id": "913a4884"
      },
      "outputs": [],
      "source": [
        "import pandas as pd"
      ]
    },
    {
      "cell_type": "code",
      "execution_count": null,
      "id": "6c66dd68",
      "metadata": {
        "id": "6c66dd68"
      },
      "outputs": [],
      "source": [
        "df = pd.read_csv('supershops.csv')"
      ]
    },
    {
      "cell_type": "code",
      "execution_count": null,
      "id": "881c6ca1",
      "metadata": {
        "id": "881c6ca1",
        "outputId": "1066fe56-c828-44b6-83df-c1fec99c7940"
      },
      "outputs": [
        {
          "data": {
            "text/html": [
              "<div>\n",
              "<style scoped>\n",
              "    .dataframe tbody tr th:only-of-type {\n",
              "        vertical-align: middle;\n",
              "    }\n",
              "\n",
              "    .dataframe tbody tr th {\n",
              "        vertical-align: top;\n",
              "    }\n",
              "\n",
              "    .dataframe thead th {\n",
              "        text-align: right;\n",
              "    }\n",
              "</style>\n",
              "<table border=\"1\" class=\"dataframe\">\n",
              "  <thead>\n",
              "    <tr style=\"text-align: right;\">\n",
              "      <th></th>\n",
              "      <th>Marketing Spend</th>\n",
              "      <th>Administration</th>\n",
              "      <th>Transport</th>\n",
              "      <th>Area</th>\n",
              "      <th>Profit</th>\n",
              "    </tr>\n",
              "  </thead>\n",
              "  <tbody>\n",
              "    <tr>\n",
              "      <th>0</th>\n",
              "      <td>114523.61</td>\n",
              "      <td>136897.80</td>\n",
              "      <td>471784.10</td>\n",
              "      <td>Dhaka</td>\n",
              "      <td>192261.83</td>\n",
              "    </tr>\n",
              "    <tr>\n",
              "      <th>1</th>\n",
              "      <td>162597.70</td>\n",
              "      <td>151377.59</td>\n",
              "      <td>443898.53</td>\n",
              "      <td>Ctg</td>\n",
              "      <td>191792.06</td>\n",
              "    </tr>\n",
              "    <tr>\n",
              "      <th>2</th>\n",
              "      <td>153441.51</td>\n",
              "      <td>101145.55</td>\n",
              "      <td>407934.54</td>\n",
              "      <td>Rangpur</td>\n",
              "      <td>191050.39</td>\n",
              "    </tr>\n",
              "    <tr>\n",
              "      <th>3</th>\n",
              "      <td>144372.41</td>\n",
              "      <td>118671.85</td>\n",
              "      <td>383199.62</td>\n",
              "      <td>Dhaka</td>\n",
              "      <td>182901.99</td>\n",
              "    </tr>\n",
              "    <tr>\n",
              "      <th>4</th>\n",
              "      <td>142107.34</td>\n",
              "      <td>91391.77</td>\n",
              "      <td>366168.42</td>\n",
              "      <td>Rangpur</td>\n",
              "      <td>166187.94</td>\n",
              "    </tr>\n",
              "  </tbody>\n",
              "</table>\n",
              "</div>"
            ],
            "text/plain": [
              "   Marketing Spend  Administration  Transport     Area     Profit\n",
              "0        114523.61       136897.80  471784.10    Dhaka  192261.83\n",
              "1        162597.70       151377.59  443898.53      Ctg  191792.06\n",
              "2        153441.51       101145.55  407934.54  Rangpur  191050.39\n",
              "3        144372.41       118671.85  383199.62    Dhaka  182901.99\n",
              "4        142107.34        91391.77  366168.42  Rangpur  166187.94"
            ]
          },
          "execution_count": 5,
          "metadata": {},
          "output_type": "execute_result"
        }
      ],
      "source": [
        "df.head()"
      ]
    },
    {
      "cell_type": "code",
      "execution_count": null,
      "id": "a9a0c95d",
      "metadata": {
        "id": "a9a0c95d"
      },
      "outputs": [],
      "source": [
        "x = df.drop('Profit', axis=1) # 1 for column"
      ]
    },
    {
      "cell_type": "code",
      "execution_count": null,
      "id": "0df08d55",
      "metadata": {
        "id": "0df08d55",
        "outputId": "3826096a-0036-4eae-e8b9-6a1ff51d0ab0"
      },
      "outputs": [
        {
          "data": {
            "text/html": [
              "<div>\n",
              "<style scoped>\n",
              "    .dataframe tbody tr th:only-of-type {\n",
              "        vertical-align: middle;\n",
              "    }\n",
              "\n",
              "    .dataframe tbody tr th {\n",
              "        vertical-align: top;\n",
              "    }\n",
              "\n",
              "    .dataframe thead th {\n",
              "        text-align: right;\n",
              "    }\n",
              "</style>\n",
              "<table border=\"1\" class=\"dataframe\">\n",
              "  <thead>\n",
              "    <tr style=\"text-align: right;\">\n",
              "      <th></th>\n",
              "      <th>Marketing Spend</th>\n",
              "      <th>Administration</th>\n",
              "      <th>Transport</th>\n",
              "      <th>Area</th>\n",
              "    </tr>\n",
              "  </thead>\n",
              "  <tbody>\n",
              "    <tr>\n",
              "      <th>0</th>\n",
              "      <td>114523.61</td>\n",
              "      <td>136897.80</td>\n",
              "      <td>471784.10</td>\n",
              "      <td>Dhaka</td>\n",
              "    </tr>\n",
              "    <tr>\n",
              "      <th>1</th>\n",
              "      <td>162597.70</td>\n",
              "      <td>151377.59</td>\n",
              "      <td>443898.53</td>\n",
              "      <td>Ctg</td>\n",
              "    </tr>\n",
              "    <tr>\n",
              "      <th>2</th>\n",
              "      <td>153441.51</td>\n",
              "      <td>101145.55</td>\n",
              "      <td>407934.54</td>\n",
              "      <td>Rangpur</td>\n",
              "    </tr>\n",
              "    <tr>\n",
              "      <th>3</th>\n",
              "      <td>144372.41</td>\n",
              "      <td>118671.85</td>\n",
              "      <td>383199.62</td>\n",
              "      <td>Dhaka</td>\n",
              "    </tr>\n",
              "    <tr>\n",
              "      <th>4</th>\n",
              "      <td>142107.34</td>\n",
              "      <td>91391.77</td>\n",
              "      <td>366168.42</td>\n",
              "      <td>Rangpur</td>\n",
              "    </tr>\n",
              "  </tbody>\n",
              "</table>\n",
              "</div>"
            ],
            "text/plain": [
              "   Marketing Spend  Administration  Transport     Area\n",
              "0        114523.61       136897.80  471784.10    Dhaka\n",
              "1        162597.70       151377.59  443898.53      Ctg\n",
              "2        153441.51       101145.55  407934.54  Rangpur\n",
              "3        144372.41       118671.85  383199.62    Dhaka\n",
              "4        142107.34        91391.77  366168.42  Rangpur"
            ]
          },
          "execution_count": 7,
          "metadata": {},
          "output_type": "execute_result"
        }
      ],
      "source": [
        "x.head()"
      ]
    },
    {
      "cell_type": "code",
      "execution_count": null,
      "id": "0bd73c63",
      "metadata": {
        "id": "0bd73c63"
      },
      "outputs": [],
      "source": [
        "y = df['Profit']"
      ]
    },
    {
      "cell_type": "code",
      "execution_count": null,
      "id": "37ed01f7",
      "metadata": {
        "id": "37ed01f7",
        "outputId": "6267adde-341a-476f-bd4d-29963c8af953"
      },
      "outputs": [
        {
          "data": {
            "text/plain": [
              "0    192261.83\n",
              "1    191792.06\n",
              "2    191050.39\n",
              "3    182901.99\n",
              "4    166187.94\n",
              "Name: Profit, dtype: float64"
            ]
          },
          "execution_count": 9,
          "metadata": {},
          "output_type": "execute_result"
        }
      ],
      "source": [
        "y.head()"
      ]
    },
    {
      "cell_type": "markdown",
      "id": "8668a51b",
      "metadata": {
        "id": "8668a51b"
      },
      "source": [
        "# Standard Scaler"
      ]
    },
    {
      "cell_type": "code",
      "execution_count": null,
      "id": "0afaab23",
      "metadata": {
        "id": "0afaab23"
      },
      "outputs": [],
      "source": [
        "from sklearn.preprocessing import StandardScaler\n",
        "std = StandardScaler()"
      ]
    },
    {
      "cell_type": "code",
      "execution_count": null,
      "id": "1960ff50",
      "metadata": {
        "id": "1960ff50"
      },
      "outputs": [],
      "source": [
        "df_ad = std.fit(df[['Administration']])"
      ]
    },
    {
      "cell_type": "code",
      "execution_count": null,
      "id": "2c4fd3b2",
      "metadata": {
        "id": "2c4fd3b2",
        "outputId": "1045a77f-1b44-4b5b-80c6-d9053c7f05a1"
      },
      "outputs": [
        {
          "data": {
            "text/plain": [
              "StandardScaler()"
            ]
          },
          "execution_count": 13,
          "metadata": {},
          "output_type": "execute_result"
        }
      ],
      "source": [
        "df_ad"
      ]
    },
    {
      "cell_type": "code",
      "execution_count": null,
      "id": "a057a5ad",
      "metadata": {
        "id": "a057a5ad",
        "outputId": "022b88cb-2731-4afd-c49b-ca55779fdb7b"
      },
      "outputs": [
        {
          "data": {
            "text/html": [
              "<div>\n",
              "<style scoped>\n",
              "    .dataframe tbody tr th:only-of-type {\n",
              "        vertical-align: middle;\n",
              "    }\n",
              "\n",
              "    .dataframe tbody tr th {\n",
              "        vertical-align: top;\n",
              "    }\n",
              "\n",
              "    .dataframe thead th {\n",
              "        text-align: right;\n",
              "    }\n",
              "</style>\n",
              "<table border=\"1\" class=\"dataframe\">\n",
              "  <thead>\n",
              "    <tr style=\"text-align: right;\">\n",
              "      <th></th>\n",
              "      <th>Marketing Spend</th>\n",
              "      <th>Administration</th>\n",
              "      <th>Transport</th>\n",
              "      <th>Area</th>\n",
              "    </tr>\n",
              "  </thead>\n",
              "  <tbody>\n",
              "    <tr>\n",
              "      <th>0</th>\n",
              "      <td>114523.61</td>\n",
              "      <td>136897.80</td>\n",
              "      <td>471784.10</td>\n",
              "      <td>Dhaka</td>\n",
              "    </tr>\n",
              "    <tr>\n",
              "      <th>1</th>\n",
              "      <td>162597.70</td>\n",
              "      <td>151377.59</td>\n",
              "      <td>443898.53</td>\n",
              "      <td>Ctg</td>\n",
              "    </tr>\n",
              "    <tr>\n",
              "      <th>2</th>\n",
              "      <td>153441.51</td>\n",
              "      <td>101145.55</td>\n",
              "      <td>407934.54</td>\n",
              "      <td>Rangpur</td>\n",
              "    </tr>\n",
              "    <tr>\n",
              "      <th>3</th>\n",
              "      <td>144372.41</td>\n",
              "      <td>118671.85</td>\n",
              "      <td>383199.62</td>\n",
              "      <td>Dhaka</td>\n",
              "    </tr>\n",
              "    <tr>\n",
              "      <th>4</th>\n",
              "      <td>142107.34</td>\n",
              "      <td>91391.77</td>\n",
              "      <td>366168.42</td>\n",
              "      <td>Rangpur</td>\n",
              "    </tr>\n",
              "  </tbody>\n",
              "</table>\n",
              "</div>"
            ],
            "text/plain": [
              "   Marketing Spend  Administration  Transport     Area\n",
              "0        114523.61       136897.80  471784.10    Dhaka\n",
              "1        162597.70       151377.59  443898.53      Ctg\n",
              "2        153441.51       101145.55  407934.54  Rangpur\n",
              "3        144372.41       118671.85  383199.62    Dhaka\n",
              "4        142107.34        91391.77  366168.42  Rangpur"
            ]
          },
          "execution_count": 14,
          "metadata": {},
          "output_type": "execute_result"
        }
      ],
      "source": [
        "x.head()"
      ]
    },
    {
      "cell_type": "code",
      "execution_count": null,
      "id": "04764131",
      "metadata": {
        "id": "04764131"
      },
      "outputs": [],
      "source": [
        "df.Administration = std.transform(df[['Administration']])"
      ]
    },
    {
      "cell_type": "code",
      "execution_count": null,
      "id": "38f20976",
      "metadata": {
        "id": "38f20976",
        "outputId": "7016b86a-8626-482b-fb52-7754690d2d45"
      },
      "outputs": [
        {
          "data": {
            "text/html": [
              "<div>\n",
              "<style scoped>\n",
              "    .dataframe tbody tr th:only-of-type {\n",
              "        vertical-align: middle;\n",
              "    }\n",
              "\n",
              "    .dataframe tbody tr th {\n",
              "        vertical-align: top;\n",
              "    }\n",
              "\n",
              "    .dataframe thead th {\n",
              "        text-align: right;\n",
              "    }\n",
              "</style>\n",
              "<table border=\"1\" class=\"dataframe\">\n",
              "  <thead>\n",
              "    <tr style=\"text-align: right;\">\n",
              "      <th></th>\n",
              "      <th>Marketing Spend</th>\n",
              "      <th>Administration</th>\n",
              "      <th>Transport</th>\n",
              "      <th>Area</th>\n",
              "      <th>Profit</th>\n",
              "    </tr>\n",
              "  </thead>\n",
              "  <tbody>\n",
              "    <tr>\n",
              "      <th>0</th>\n",
              "      <td>114523.61</td>\n",
              "      <td>0.560753</td>\n",
              "      <td>471784.10</td>\n",
              "      <td>Dhaka</td>\n",
              "      <td>192261.83</td>\n",
              "    </tr>\n",
              "    <tr>\n",
              "      <th>1</th>\n",
              "      <td>162597.70</td>\n",
              "      <td>1.082807</td>\n",
              "      <td>443898.53</td>\n",
              "      <td>Ctg</td>\n",
              "      <td>191792.06</td>\n",
              "    </tr>\n",
              "    <tr>\n",
              "      <th>2</th>\n",
              "      <td>153441.51</td>\n",
              "      <td>-0.728257</td>\n",
              "      <td>407934.54</td>\n",
              "      <td>Rangpur</td>\n",
              "      <td>191050.39</td>\n",
              "    </tr>\n",
              "    <tr>\n",
              "      <th>3</th>\n",
              "      <td>144372.41</td>\n",
              "      <td>-0.096365</td>\n",
              "      <td>383199.62</td>\n",
              "      <td>Dhaka</td>\n",
              "      <td>182901.99</td>\n",
              "    </tr>\n",
              "    <tr>\n",
              "      <th>4</th>\n",
              "      <td>142107.34</td>\n",
              "      <td>-1.079919</td>\n",
              "      <td>366168.42</td>\n",
              "      <td>Rangpur</td>\n",
              "      <td>166187.94</td>\n",
              "    </tr>\n",
              "  </tbody>\n",
              "</table>\n",
              "</div>"
            ],
            "text/plain": [
              "   Marketing Spend  Administration  Transport     Area     Profit\n",
              "0        114523.61        0.560753  471784.10    Dhaka  192261.83\n",
              "1        162597.70        1.082807  443898.53      Ctg  191792.06\n",
              "2        153441.51       -0.728257  407934.54  Rangpur  191050.39\n",
              "3        144372.41       -0.096365  383199.62    Dhaka  182901.99\n",
              "4        142107.34       -1.079919  366168.42  Rangpur  166187.94"
            ]
          },
          "execution_count": 18,
          "metadata": {},
          "output_type": "execute_result"
        }
      ],
      "source": [
        "df.head()"
      ]
    },
    {
      "cell_type": "code",
      "execution_count": null,
      "id": "477baf38",
      "metadata": {
        "id": "477baf38"
      },
      "outputs": [],
      "source": [
        "df.Transport = std.fit_transform(df[['Transport']])"
      ]
    },
    {
      "cell_type": "code",
      "execution_count": null,
      "id": "84a0e7e4",
      "metadata": {
        "id": "84a0e7e4",
        "outputId": "cfd008e2-e80d-45d1-b86c-1140e0c350a6"
      },
      "outputs": [
        {
          "data": {
            "text/html": [
              "<div>\n",
              "<style scoped>\n",
              "    .dataframe tbody tr th:only-of-type {\n",
              "        vertical-align: middle;\n",
              "    }\n",
              "\n",
              "    .dataframe tbody tr th {\n",
              "        vertical-align: top;\n",
              "    }\n",
              "\n",
              "    .dataframe thead th {\n",
              "        text-align: right;\n",
              "    }\n",
              "</style>\n",
              "<table border=\"1\" class=\"dataframe\">\n",
              "  <thead>\n",
              "    <tr style=\"text-align: right;\">\n",
              "      <th></th>\n",
              "      <th>Marketing Spend</th>\n",
              "      <th>Administration</th>\n",
              "      <th>Transport</th>\n",
              "      <th>Area</th>\n",
              "      <th>Profit</th>\n",
              "    </tr>\n",
              "  </thead>\n",
              "  <tbody>\n",
              "    <tr>\n",
              "      <th>0</th>\n",
              "      <td>114523.61</td>\n",
              "      <td>0.560753</td>\n",
              "      <td>2.165287</td>\n",
              "      <td>Dhaka</td>\n",
              "      <td>192261.83</td>\n",
              "    </tr>\n",
              "    <tr>\n",
              "      <th>1</th>\n",
              "      <td>162597.70</td>\n",
              "      <td>1.082807</td>\n",
              "      <td>1.929843</td>\n",
              "      <td>Ctg</td>\n",
              "      <td>191792.06</td>\n",
              "    </tr>\n",
              "    <tr>\n",
              "      <th>2</th>\n",
              "      <td>153441.51</td>\n",
              "      <td>-0.728257</td>\n",
              "      <td>1.626191</td>\n",
              "      <td>Rangpur</td>\n",
              "      <td>191050.39</td>\n",
              "    </tr>\n",
              "    <tr>\n",
              "      <th>3</th>\n",
              "      <td>144372.41</td>\n",
              "      <td>-0.096365</td>\n",
              "      <td>1.417348</td>\n",
              "      <td>Dhaka</td>\n",
              "      <td>182901.99</td>\n",
              "    </tr>\n",
              "    <tr>\n",
              "      <th>4</th>\n",
              "      <td>142107.34</td>\n",
              "      <td>-1.079919</td>\n",
              "      <td>1.273550</td>\n",
              "      <td>Rangpur</td>\n",
              "      <td>166187.94</td>\n",
              "    </tr>\n",
              "  </tbody>\n",
              "</table>\n",
              "</div>"
            ],
            "text/plain": [
              "   Marketing Spend  Administration  Transport     Area     Profit\n",
              "0        114523.61        0.560753   2.165287    Dhaka  192261.83\n",
              "1        162597.70        1.082807   1.929843      Ctg  191792.06\n",
              "2        153441.51       -0.728257   1.626191  Rangpur  191050.39\n",
              "3        144372.41       -0.096365   1.417348    Dhaka  182901.99\n",
              "4        142107.34       -1.079919   1.273550  Rangpur  166187.94"
            ]
          },
          "execution_count": 20,
          "metadata": {},
          "output_type": "execute_result"
        }
      ],
      "source": [
        "df.head()"
      ]
    },
    {
      "cell_type": "markdown",
      "id": "1bceb13b",
      "metadata": {
        "id": "1bceb13b"
      },
      "source": [
        "# Assignment"
      ]
    },
    {
      "cell_type": "code",
      "execution_count": null,
      "id": "88b478b7",
      "metadata": {
        "id": "88b478b7"
      },
      "outputs": [],
      "source": [
        "#LOOP Standard Scaler"
      ]
    },
    {
      "cell_type": "code",
      "execution_count": null,
      "id": "8e9427dd",
      "metadata": {
        "id": "8e9427dd"
      },
      "outputs": [],
      "source": []
    },
    {
      "cell_type": "code",
      "execution_count": null,
      "id": "04954931",
      "metadata": {
        "id": "04954931"
      },
      "outputs": [],
      "source": [
        "# MinMax Scaler\n",
        "#https://scikit-learn.org/stable/modules/generated/sklearn.preprocessing.MinMaxScaler.html\n",
        "\n"
      ]
    },
    {
      "cell_type": "code",
      "execution_count": null,
      "id": "47621a1c",
      "metadata": {
        "id": "47621a1c"
      },
      "outputs": [],
      "source": []
    },
    {
      "cell_type": "code",
      "execution_count": null,
      "id": "23c4a8a5",
      "metadata": {
        "id": "23c4a8a5"
      },
      "outputs": [],
      "source": [
        "#Max Abs Scaler"
      ]
    },
    {
      "cell_type": "code",
      "execution_count": null,
      "id": "5d6d925e",
      "metadata": {
        "id": "5d6d925e"
      },
      "outputs": [],
      "source": []
    },
    {
      "cell_type": "code",
      "execution_count": null,
      "id": "9d4d6dc4",
      "metadata": {
        "id": "9d4d6dc4"
      },
      "outputs": [],
      "source": [
        "#Robus Scaler"
      ]
    },
    {
      "cell_type": "code",
      "execution_count": null,
      "id": "b4ac4e4c",
      "metadata": {
        "id": "b4ac4e4c"
      },
      "outputs": [],
      "source": []
    },
    {
      "cell_type": "code",
      "execution_count": null,
      "id": "42358c80",
      "metadata": {
        "id": "42358c80"
      },
      "outputs": [],
      "source": []
    }
  ],
  "metadata": {
    "kernelspec": {
      "display_name": "Python 3 (ipykernel)",
      "language": "python",
      "name": "python3"
    },
    "language_info": {
      "codemirror_mode": {
        "name": "ipython",
        "version": 3
      },
      "file_extension": ".py",
      "mimetype": "text/x-python",
      "name": "python",
      "nbconvert_exporter": "python",
      "pygments_lexer": "ipython3",
      "version": "3.9.13"
    },
    "colab": {
      "provenance": []
    }
  },
  "nbformat": 4,
  "nbformat_minor": 5
}