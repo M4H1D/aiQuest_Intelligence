{
  "cells": [
    {
      "cell_type": "markdown",
      "metadata": {
        "id": "o3JyHw3Nvlre"
      },
      "source": [
        "# **Basic Python**\n",
        "\n",
        "**Day-1**\n",
        "\n",
        "\n"
      ]
    },
    {
      "cell_type": "markdown",
      "metadata": {
        "id": "MAXaULC2WrEp"
      },
      "source": [
        "1) Describe about Python.\n",
        "\n",
        "2) Download Python IDE.\n",
        "\n",
        "3) Download Anaconda and setup Jupyter Notebook\n",
        "\n",
        "4) Describe Google Colab."
      ]
    },
    {
      "cell_type": "markdown",
      "metadata": {
        "id": "MYx6WHbCKO5y"
      },
      "source": [
        "**Day-2**\n"
      ]
    },
    {
      "cell_type": "code",
      "execution_count": null,
      "metadata": {
        "id": "tBdCvdFIK9GS"
      },
      "outputs": [],
      "source": [
        "\"Data Science\""
      ]
    },
    {
      "cell_type": "markdown",
      "metadata": {
        "id": "b0Y6gzu4Mt7Q"
      },
      "source": [
        "#####Input/ Output Function"
      ]
    },
    {
      "cell_type": "code",
      "execution_count": null,
      "metadata": {
        "id": "m_tkLRGuNNX-"
      },
      "outputs": [],
      "source": [
        "print(\"Hello world\",\"Welcome to 60 Days of Python\",sep=\" & \",end=' * ')"
      ]
    },
    {
      "cell_type": "code",
      "execution_count": null,
      "metadata": {
        "id": "mF5FhJDAPc1f"
      },
      "outputs": [],
      "source": [
        "var=\"Hello World\"\n",
        "print(var)"
      ]
    },
    {
      "cell_type": "code",
      "execution_count": null,
      "metadata": {
        "id": "GjTMEyuMQC3e"
      },
      "outputs": [],
      "source": [
        "id(var)"
      ]
    },
    {
      "cell_type": "code",
      "execution_count": null,
      "metadata": {
        "id": "-hxSZS60QH2h"
      },
      "outputs": [],
      "source": [
        "import sys\n",
        "sys.getsizeof(var)\n"
      ]
    },
    {
      "cell_type": "code",
      "execution_count": null,
      "metadata": {
        "id": "AthIoUyjQ4q9"
      },
      "outputs": [],
      "source": [
        "x=100\n",
        "x"
      ]
    },
    {
      "cell_type": "code",
      "execution_count": null,
      "metadata": {
        "id": "l7i2HoanRFgS"
      },
      "outputs": [],
      "source": [
        "y=100\n",
        "y"
      ]
    },
    {
      "cell_type": "code",
      "execution_count": null,
      "metadata": {
        "id": "O-0ehFfPRKkJ"
      },
      "outputs": [],
      "source": [
        "id(x)"
      ]
    },
    {
      "cell_type": "code",
      "execution_count": null,
      "metadata": {
        "id": "9OApJkQtROMp"
      },
      "outputs": [],
      "source": [
        "id(y)"
      ]
    },
    {
      "cell_type": "markdown",
      "metadata": {
        "id": "-9lmA400SQgp"
      },
      "source": [
        "#####variables in python"
      ]
    },
    {
      "cell_type": "code",
      "execution_count": null,
      "metadata": {
        "id": "LvDyknJeSsf2"
      },
      "outputs": [],
      "source": [
        "x,y,z=10,100,1000\n",
        "x\n"
      ]
    },
    {
      "cell_type": "code",
      "execution_count": null,
      "metadata": {
        "id": "mAeBcWMhTDiI"
      },
      "outputs": [],
      "source": [
        "y"
      ]
    },
    {
      "cell_type": "code",
      "execution_count": null,
      "metadata": {
        "id": "MCnn8GKbTFkH"
      },
      "outputs": [],
      "source": [
        "z"
      ]
    },
    {
      "cell_type": "markdown",
      "metadata": {
        "id": "asqjQOT1UCy9"
      },
      "source": [
        "#####local vs global"
      ]
    },
    {
      "cell_type": "code",
      "execution_count": null,
      "metadata": {
        "id": "sto0SRFrT6Zr"
      },
      "outputs": [],
      "source": [
        "x=1000 #Global Variable\n",
        "def func1():\n",
        "  x=500 #Local Variable\n",
        "  print(\"My num is : \",x)\n",
        "func1()\n",
        "print(\"My Num is : \",x)\n"
      ]
    },
    {
      "cell_type": "code",
      "execution_count": null,
      "metadata": {
        "id": "xJnmF1EiVvku"
      },
      "outputs": [],
      "source": [
        "# How can we change Local to Global Variable\n",
        "def func1():  \n",
        "  global x\n",
        "  x= 500 #Local\n",
        "  print(\"My num is: \",x)\n",
        "func1()\n",
        "print(\"My Num is: \",x)"
      ]
    },
    {
      "cell_type": "markdown",
      "metadata": {
        "id": "a5SlhQGHpcsQ"
      },
      "source": [
        " **Day-3**"
      ]
    },
    {
      "cell_type": "code",
      "execution_count": null,
      "metadata": {
        "id": "iCfaBeqVpmMj"
      },
      "outputs": [],
      "source": [
        "x=input()\n",
        "y=input()\n",
        "x+y"
      ]
    },
    {
      "cell_type": "code",
      "execution_count": null,
      "metadata": {
        "id": "Qj2CCofPqG-k"
      },
      "outputs": [],
      "source": [
        "x=int(input(\"Enter your Number: \"))\n",
        "y=int(input(\"enter your numbeer: \"))\n",
        "x+y"
      ]
    },
    {
      "cell_type": "code",
      "execution_count": null,
      "metadata": {
        "id": "ikNm55WDrN64"
      },
      "outputs": [],
      "source": [
        "data =\"60 days of Python\"\n",
        "len(data)"
      ]
    },
    {
      "cell_type": "code",
      "execution_count": null,
      "metadata": {
        "id": "YizmHOYsrfDr"
      },
      "outputs": [],
      "source": [
        "import sys\n",
        "sys.getsizeof(data)"
      ]
    },
    {
      "cell_type": "code",
      "execution_count": null,
      "metadata": {
        "id": "M35-Xfs7rvd6"
      },
      "outputs": [],
      "source": [
        "data.count(\"o\")"
      ]
    },
    {
      "cell_type": "code",
      "execution_count": null,
      "metadata": {
        "id": "2MRTXJvkscqt"
      },
      "outputs": [],
      "source": [
        "data.find(\"o\")"
      ]
    },
    {
      "cell_type": "code",
      "execution_count": null,
      "metadata": {
        "id": "1iK9iNbh5I0k"
      },
      "outputs": [],
      "source": [
        "data.index(\"y\")"
      ]
    },
    {
      "cell_type": "code",
      "execution_count": null,
      "metadata": {
        "id": "QTvkR5CK5PjT"
      },
      "outputs": [],
      "source": [
        "data.index(\"y\",6,13)"
      ]
    },
    {
      "cell_type": "code",
      "execution_count": null,
      "metadata": {
        "id": "wnsHyVV05p4U"
      },
      "outputs": [],
      "source": [
        "data.lower()"
      ]
    },
    {
      "cell_type": "code",
      "execution_count": null,
      "metadata": {
        "id": "TW_d2yTf5v4T"
      },
      "outputs": [],
      "source": [
        "data.upper()"
      ]
    },
    {
      "cell_type": "code",
      "execution_count": null,
      "metadata": {
        "id": "fPS24qoF51bM"
      },
      "outputs": [],
      "source": [
        "data.casefold()"
      ]
    },
    {
      "cell_type": "code",
      "execution_count": null,
      "metadata": {
        "id": "lSYZz4pL6CO3"
      },
      "outputs": [],
      "source": [
        "data.capitalize()"
      ]
    },
    {
      "cell_type": "code",
      "execution_count": null,
      "metadata": {
        "id": "3YVvbRdo6M99"
      },
      "outputs": [],
      "source": [
        "data.swapcase()"
      ]
    },
    {
      "cell_type": "code",
      "execution_count": null,
      "metadata": {
        "id": "NPL5N5q46usE"
      },
      "outputs": [],
      "source": [
        "data.title()"
      ]
    },
    {
      "cell_type": "code",
      "execution_count": null,
      "metadata": {
        "id": "muNPgkYk7bCM"
      },
      "outputs": [],
      "source": [
        "x=data\n",
        "x.title()"
      ]
    },
    {
      "cell_type": "code",
      "execution_count": null,
      "metadata": {
        "colab": {
          "base_uri": "https://localhost:8080/"
        },
        "id": "j1iMRdHu7izu",
        "outputId": "ac6bdf70-c51e-4e2e-c562-456e09f57775"
      },
      "outputs": [
        {
          "data": {
            "text/plain": [
              "True"
            ]
          },
          "execution_count": 64,
          "metadata": {},
          "output_type": "execute_result"
        }
      ],
      "source": [
        "x.islower()"
      ]
    },
    {
      "cell_type": "code",
      "execution_count": null,
      "metadata": {
        "id": "C3jVr5uz75Mb"
      },
      "outputs": [],
      "source": [
        "x.upper()"
      ]
    },
    {
      "cell_type": "code",
      "execution_count": null,
      "metadata": {
        "id": "dejCjO6f8DkN"
      },
      "outputs": [],
      "source": [
        "x.isupper()"
      ]
    },
    {
      "cell_type": "code",
      "execution_count": null,
      "metadata": {
        "id": "i15LSK6q9SNg"
      },
      "outputs": [],
      "source": [
        "x.isdigit()"
      ]
    },
    {
      "cell_type": "code",
      "execution_count": null,
      "metadata": {
        "id": "j9TEfU2K9XjI"
      },
      "outputs": [],
      "source": [
        "x.encode()"
      ]
    },
    {
      "cell_type": "code",
      "execution_count": null,
      "metadata": {
        "id": "urJo-fYj9eMY"
      },
      "outputs": [],
      "source": [
        "x.split()"
      ]
    },
    {
      "cell_type": "code",
      "execution_count": null,
      "metadata": {
        "id": "bgZwDyDH9tSA"
      },
      "outputs": [],
      "source": [
        "x.split()[1]"
      ]
    },
    {
      "cell_type": "code",
      "execution_count": null,
      "metadata": {
        "id": "2zU1V4So95rx"
      },
      "outputs": [],
      "source": [
        "x.center(100)"
      ]
    },
    {
      "cell_type": "code",
      "execution_count": null,
      "metadata": {
        "id": "sLztuJo5-AJT"
      },
      "outputs": [],
      "source": [
        "x.replace(\"data\",\"AI\")"
      ]
    },
    {
      "cell_type": "markdown",
      "metadata": {
        "id": "a3FbTmNI_AYC"
      },
      "source": [
        "**Day-4**\n",
        "#####**All About Data Types in Python :**"
      ]
    },
    {
      "cell_type": "markdown",
      "metadata": {
        "id": "o_-G1Rva_tBg"
      },
      "source": [
        "1) Numeric Data\n"
      ]
    },
    {
      "cell_type": "code",
      "execution_count": null,
      "metadata": {
        "id": "vH87DJqu-_Rf"
      },
      "outputs": [],
      "source": [
        "x=10 #int\n",
        "y=10.5 #float\n",
        "z=10+5j #10 is real Number and 5j is imaginary"
      ]
    },
    {
      "cell_type": "code",
      "execution_count": null,
      "metadata": {
        "id": "7khYbs8QASHK"
      },
      "outputs": [],
      "source": [
        "type(x)"
      ]
    },
    {
      "cell_type": "code",
      "execution_count": null,
      "metadata": {
        "id": "AQ-6oaRhAkwR"
      },
      "outputs": [],
      "source": [
        "type(y)"
      ]
    },
    {
      "cell_type": "code",
      "execution_count": null,
      "metadata": {
        "id": "7hlY089UApp0"
      },
      "outputs": [],
      "source": [
        "type(z)"
      ]
    },
    {
      "cell_type": "code",
      "execution_count": null,
      "metadata": {
        "id": "4u73GhkqAx4b"
      },
      "outputs": [],
      "source": [
        "isinstance(z,complex) #True/ False output"
      ]
    },
    {
      "cell_type": "code",
      "execution_count": null,
      "metadata": {
        "id": "6K3Wc1JKBACX"
      },
      "outputs": [],
      "source": [
        "#int to float\n",
        "n=float(x) # n=float"
      ]
    },
    {
      "cell_type": "code",
      "execution_count": null,
      "metadata": {
        "id": "SjxIcPfBBNc0"
      },
      "outputs": [],
      "source": [
        "n"
      ]
    },
    {
      "cell_type": "code",
      "execution_count": null,
      "metadata": {
        "id": "xrK59MajBd8a"
      },
      "outputs": [],
      "source": [
        "type(n)"
      ]
    },
    {
      "cell_type": "code",
      "execution_count": null,
      "metadata": {
        "id": "QOOprtq2BkRS"
      },
      "outputs": [],
      "source": [
        "n=int(n)\n",
        "type(n)"
      ]
    },
    {
      "cell_type": "code",
      "execution_count": null,
      "metadata": {
        "id": "2zyosRelB02K"
      },
      "outputs": [],
      "source": [
        "n"
      ]
    },
    {
      "cell_type": "code",
      "execution_count": null,
      "metadata": {
        "id": "geHKFu3HB292"
      },
      "outputs": [],
      "source": [
        "# int to complex\n",
        "n=complex(n) #10+0j"
      ]
    },
    {
      "cell_type": "code",
      "execution_count": null,
      "metadata": {
        "id": "6GbSZ7CaCJ1H"
      },
      "outputs": [],
      "source": [
        "n"
      ]
    },
    {
      "cell_type": "code",
      "execution_count": null,
      "metadata": {
        "id": "YAaTv1ehCUCC"
      },
      "outputs": [],
      "source": [
        "type(n)"
      ]
    },
    {
      "cell_type": "code",
      "execution_count": null,
      "metadata": {
        "id": "FASrLcUaCkOY"
      },
      "outputs": [],
      "source": [
        "n=complex(input(\"Enter Your complex Number: \"))"
      ]
    },
    {
      "cell_type": "code",
      "source": [
        "n"
      ],
      "metadata": {
        "id": "hh_pRetcDcgD"
      },
      "execution_count": null,
      "outputs": []
    },
    {
      "cell_type": "markdown",
      "source": [
        "2) Bool"
      ],
      "metadata": {
        "id": "3TjpSshKDqM6"
      }
    },
    {
      "cell_type": "code",
      "source": [
        "x=True\n",
        "y=False"
      ],
      "metadata": {
        "id": "eID4saUCDigt"
      },
      "execution_count": null,
      "outputs": []
    },
    {
      "cell_type": "code",
      "source": [
        "x"
      ],
      "metadata": {
        "id": "L_hPd9nJD_vH"
      },
      "execution_count": null,
      "outputs": []
    },
    {
      "cell_type": "code",
      "source": [
        "y"
      ],
      "metadata": {
        "id": "yLi-JURJECFb"
      },
      "execution_count": null,
      "outputs": []
    },
    {
      "cell_type": "markdown",
      "source": [
        "3) Sequence Data"
      ],
      "metadata": {
        "id": "hdsJhXncEGxA"
      }
    },
    {
      "cell_type": "code",
      "source": [
        "# list\n",
        "l=[1,2,3,4,True,[1,2],\"data\",(1,2,3,8)]"
      ],
      "metadata": {
        "id": "LlGTEocYENxH"
      },
      "execution_count": null,
      "outputs": []
    },
    {
      "cell_type": "code",
      "source": [
        "l"
      ],
      "metadata": {
        "id": "Zy5R8HxrEhIB"
      },
      "execution_count": null,
      "outputs": []
    },
    {
      "cell_type": "code",
      "source": [
        "l[0],l[-1]"
      ],
      "metadata": {
        "id": "0fSvx_bvEkKO"
      },
      "execution_count": null,
      "outputs": []
    },
    {
      "cell_type": "code",
      "source": [
        "l[-1],[-1]"
      ],
      "metadata": {
        "id": "xYX2WNozExKa"
      },
      "execution_count": null,
      "outputs": []
    },
    {
      "cell_type": "code",
      "source": [
        "isinstance(1,list)"
      ],
      "metadata": {
        "id": "hzritXY8FA7R"
      },
      "execution_count": null,
      "outputs": []
    },
    {
      "cell_type": "markdown",
      "source": [
        "4)Tuple"
      ],
      "metadata": {
        "id": "i6jfZTj9FMGh"
      }
    },
    {
      "cell_type": "code",
      "source": [
        "t=(1,5,8,9,\"AI\")\n",
        "type(t)"
      ],
      "metadata": {
        "id": "c_gxxtu7FRhJ"
      },
      "execution_count": null,
      "outputs": []
    },
    {
      "cell_type": "code",
      "source": [
        "t[0]"
      ],
      "metadata": {
        "id": "VV_jfMb1FoBc"
      },
      "execution_count": null,
      "outputs": []
    },
    {
      "cell_type": "code",
      "source": [
        "t[0:4] # colon means 0 to 4-1 ; "
      ],
      "metadata": {
        "id": "IIDS3TvFFtHa"
      },
      "execution_count": null,
      "outputs": []
    },
    {
      "cell_type": "markdown",
      "source": [
        "5) Range()"
      ],
      "metadata": {
        "id": "p2wm54I8GDyF"
      }
    },
    {
      "cell_type": "code",
      "source": [
        "x=range(0,10)"
      ],
      "metadata": {
        "id": "Xo2iaBd6GMLf"
      },
      "execution_count": null,
      "outputs": []
    },
    {
      "cell_type": "code",
      "source": [
        "x"
      ],
      "metadata": {
        "id": "4HGBvZtnGTFa"
      },
      "execution_count": null,
      "outputs": []
    },
    {
      "cell_type": "code",
      "source": [
        "for i in x:   #2nd case\n",
        "   print(i)\n"
      ],
      "metadata": {
        "id": "2OTtPRz_GUlt"
      },
      "execution_count": null,
      "outputs": []
    },
    {
      "cell_type": "code",
      "source": [
        "x=range(5,20)\n",
        "for i in x:  # 3rd case\n",
        "  print(i)"
      ],
      "metadata": {
        "id": "nD4ePCahGpAb"
      },
      "execution_count": null,
      "outputs": []
    },
    {
      "cell_type": "markdown",
      "source": [
        "5) Array"
      ],
      "metadata": {
        "id": "TLKdYe5iHGKC"
      }
    },
    {
      "cell_type": "code",
      "source": [
        "import array as ar\n",
        "a= ar.array(\"i\",[1,2,3,4])\n",
        "type(a)\n",
        "a"
      ],
      "metadata": {
        "id": "_Gd5FCF7HDI2"
      },
      "execution_count": null,
      "outputs": []
    },
    {
      "cell_type": "code",
      "source": [
        "a=ar.array(\"f\",[1.5,2,3,4,5])\n",
        "a"
      ],
      "metadata": {
        "id": "sO9T22EaPrYm"
      },
      "execution_count": null,
      "outputs": []
    },
    {
      "cell_type": "markdown",
      "source": [
        "6) String"
      ],
      "metadata": {
        "id": "0nseqI53dD6c"
      }
    },
    {
      "cell_type": "code",
      "source": [
        "x=\"data\"\n",
        "type(x)"
      ],
      "metadata": {
        "id": "ex5gVgpSc9MN"
      },
      "execution_count": null,
      "outputs": []
    },
    {
      "cell_type": "markdown",
      "source": [
        "7) Set"
      ],
      "metadata": {
        "id": "WXTxGK0KdWmr"
      }
    },
    {
      "cell_type": "code",
      "source": [
        "s={1,2,3,4,5}\n",
        "type(s)"
      ],
      "metadata": {
        "id": "qD6Etk6odVqY"
      },
      "execution_count": null,
      "outputs": []
    },
    {
      "cell_type": "markdown",
      "source": [
        "8) Dictionary"
      ],
      "metadata": {
        "id": "Ht_iwWzLdiiv"
      }
    },
    {
      "cell_type": "code",
      "source": [
        "dic = {\"Varsity\":\"NU\",\"Dept\":\"Data Science\"}\n",
        "dic"
      ],
      "metadata": {
        "colab": {
          "base_uri": "https://localhost:8080/"
        },
        "id": "o1co3SridnKp",
        "outputId": "35396f80-8f2d-4644-914d-0e08d36fa07f"
      },
      "execution_count": null,
      "outputs": [
        {
          "output_type": "execute_result",
          "data": {
            "text/plain": [
              "{'Varsity': 'NU', 'Dept': 'Data Science'}"
            ]
          },
          "metadata": {},
          "execution_count": 46
        }
      ]
    },
    {
      "cell_type": "code",
      "source": [
        "dic.keys()"
      ],
      "metadata": {
        "id": "xx6-3txCeMiU"
      },
      "execution_count": null,
      "outputs": []
    },
    {
      "cell_type": "code",
      "source": [
        "dic.values()"
      ],
      "metadata": {
        "id": "2c0Ve-r6eU0G"
      },
      "execution_count": null,
      "outputs": []
    },
    {
      "cell_type": "markdown",
      "source": [
        "9) Binary types"
      ],
      "metadata": {
        "id": "2zJauwtIfSUC"
      }
    },
    {
      "cell_type": "code",
      "source": [
        "byte_arr = bytearray(\"ABCDEF\",'utf-8')\n",
        "type(byte_arr)"
      ],
      "metadata": {
        "id": "XcT1mgwKfZHr"
      },
      "execution_count": null,
      "outputs": []
    },
    {
      "cell_type": "code",
      "source": [
        "byte_arr"
      ],
      "metadata": {
        "id": "GNU9X3XTfwMk"
      },
      "execution_count": null,
      "outputs": []
    },
    {
      "cell_type": "code",
      "source": [
        "memoryview(byte_arr)[0]\n"
      ],
      "metadata": {
        "id": "PsYfA6sdf4G1"
      },
      "execution_count": null,
      "outputs": []
    },
    {
      "cell_type": "code",
      "source": [
        "mv=memoryview(byte_arr)\n",
        "mv[0]=97"
      ],
      "metadata": {
        "id": "_k03wy6GgF7v"
      },
      "execution_count": null,
      "outputs": []
    },
    {
      "cell_type": "code",
      "source": [
        "memoryview(byte_arr)[0]"
      ],
      "metadata": {
        "id": "wFNYLXYHgVj7"
      },
      "execution_count": null,
      "outputs": []
    },
    {
      "cell_type": "code",
      "source": [
        "byte_arr"
      ],
      "metadata": {
        "id": "uKfrkmNTgejy"
      },
      "execution_count": null,
      "outputs": []
    },
    {
      "cell_type": "markdown",
      "source": [
        "**Day-5**"
      ],
      "metadata": {
        "id": "S0Nyu_tSgkul"
      }
    },
    {
      "cell_type": "markdown",
      "source": [
        "- describe about Operator"
      ],
      "metadata": {
        "id": "lV-wLYwMmQnR"
      }
    },
    {
      "cell_type": "markdown",
      "source": [
        "**Day-6**"
      ],
      "metadata": {
        "id": "Ts6w9bH8TtFr"
      }
    },
    {
      "cell_type": "markdown",
      "source": [
        "Assinging the variable"
      ],
      "metadata": {
        "id": "A615dl-cT9lF"
      }
    },
    {
      "cell_type": "code",
      "source": [
        "x=15\n",
        "y=4\n",
        "z=3"
      ],
      "metadata": {
        "id": "6X4AWVOJUJEN"
      },
      "execution_count": null,
      "outputs": []
    },
    {
      "cell_type": "code",
      "source": [
        "x+y"
      ],
      "metadata": {
        "id": "npDH024WUVOJ"
      },
      "execution_count": null,
      "outputs": []
    },
    {
      "cell_type": "code",
      "source": [
        "x-y"
      ],
      "metadata": {
        "id": "aGPA0UMoUcl3"
      },
      "execution_count": null,
      "outputs": []
    },
    {
      "cell_type": "code",
      "source": [
        "x/y"
      ],
      "metadata": {
        "id": "dgdudnWrUjRH"
      },
      "execution_count": null,
      "outputs": []
    },
    {
      "cell_type": "code",
      "source": [
        "x*y"
      ],
      "metadata": {
        "id": "Ls0lV5CrUnCE"
      },
      "execution_count": null,
      "outputs": []
    },
    {
      "cell_type": "code",
      "source": [
        "x//y"
      ],
      "metadata": {
        "id": "HI3GhGN4UrDL"
      },
      "execution_count": null,
      "outputs": []
    },
    {
      "cell_type": "code",
      "source": [
        "import math\n",
        "math.floor(x/y)\n"
      ],
      "metadata": {
        "id": "uVMeW4nDUtbS"
      },
      "execution_count": null,
      "outputs": []
    },
    {
      "cell_type": "markdown",
      "source": [
        "Python Idention Operator"
      ],
      "metadata": {
        "id": "l9cmBghjVccC"
      }
    },
    {
      "cell_type": "code",
      "source": [
        "x=10\n",
        "y=10\n",
        "x is y"
      ],
      "metadata": {
        "id": "1DqxFpiWWG57"
      },
      "execution_count": null,
      "outputs": []
    },
    {
      "cell_type": "code",
      "source": [
        "x==y"
      ],
      "metadata": {
        "id": "k62qyjwHWPRs"
      },
      "execution_count": null,
      "outputs": []
    },
    {
      "cell_type": "code",
      "source": [
        "x=100017\n",
        "y=x\n",
        "z=100017"
      ],
      "metadata": {
        "id": "6Q6sE-NaWUcH"
      },
      "execution_count": null,
      "outputs": []
    },
    {
      "cell_type": "code",
      "source": [
        "x is y"
      ],
      "metadata": {
        "id": "2Ja9o4PXWhCN"
      },
      "execution_count": null,
      "outputs": []
    },
    {
      "cell_type": "markdown",
      "source": [
        "Python Bitwise Operators"
      ],
      "metadata": {
        "id": "qnTOU7l4WndH"
      }
    },
    {
      "cell_type": "code",
      "source": [
        "x=10\n",
        "y=5\n",
        "x|y\n"
      ],
      "metadata": {
        "id": "CN5XF4rGWtcw"
      },
      "execution_count": null,
      "outputs": []
    },
    {
      "cell_type": "markdown",
      "source": [
        "**Day-7**\n",
        "\n",
        "**Python Condition**"
      ],
      "metadata": {
        "id": "6CQvDFw6gHv9"
      }
    },
    {
      "cell_type": "markdown",
      "source": [
        "1) Take Values of length and breadth of a rectangle from user input() and check if it is squre or not."
      ],
      "metadata": {
        "id": "XylBTmVLgYsR"
      }
    },
    {
      "cell_type": "code",
      "source": [
        "length=int(input(\"Enter Length number: \"))\n",
        "breadth=int(input(\"Enter Breadth number: \"))\n",
        "if length==breadth:\n",
        "  print(\"Squre.\")\n",
        "else:\n",
        "  print(\"Not Squre.\")"
      ],
      "metadata": {
        "id": "mtOmgtqDgs3J"
      },
      "execution_count": null,
      "outputs": []
    },
    {
      "cell_type": "markdown",
      "source": [
        "2) Take 3 integer values from user and print greatest among them."
      ],
      "metadata": {
        "id": "ljnGGjdyiZTj"
      }
    },
    {
      "cell_type": "code",
      "source": [
        "a=int(input())\n",
        "b=int(input())\n",
        "c=int(input())\n",
        "if a>b and a>c:\n",
        "  print(a)\n",
        "elif b>a and b>c:\n",
        "  print(b)\n",
        "else:\n",
        "  print(\"Greatest Number\",c)"
      ],
      "metadata": {
        "id": "KWm79dQWingO"
      },
      "execution_count": null,
      "outputs": []
    },
    {
      "cell_type": "markdown",
      "source": [
        "3) A student will not be allowed to sit in exam if his/her attendence is less than 75% ."
      ],
      "metadata": {
        "id": "l1PIW7cSjUvf"
      }
    },
    {
      "cell_type": "code",
      "source": [
        "Total_class=int(input(\"Total Class Number :\"))\n",
        "Attendence=int(input(\"Total Attendance :\"))\n",
        "calculator=(Attendence*100)/Total_class\n",
        "if calculator>=75:\n",
        "  print(\"Allow for Exam\")\n",
        "else:\n",
        "  print(\"Not Allow for exam\")"
      ],
      "metadata": {
        "id": "NP-U2skwjm8G"
      },
      "execution_count": null,
      "outputs": []
    },
    {
      "cell_type": "markdown",
      "source": [
        "4) A school has following rules for grading system:\n",
        "\n",
        "below 25-F, 25 to 44 -E, 45 to 49 -D, 50 to 59 -C, 60 to 79 -B, 80 to 89 -A, Above 90 -A+"
      ],
      "metadata": {
        "id": "q3RqJl-29hKJ"
      }
    },
    {
      "cell_type": "code",
      "source": [
        "Number=float(input(\"Enter your Number: \"))\n",
        "if Number<=25 and Number>=0:\n",
        "    print(\"F\")\n",
        "elif Number>25 and Number<=44:\n",
        "    print(\"E\")\n",
        "elif 45<=Number<=49:\n",
        "    print(\"D\")\n",
        "elif 50<=Number<=59:\n",
        "    print(\"C\")\n",
        "elif 60<=Number<=79:\n",
        "    print(\"B\")\n",
        "elif 80<=Number<=89:\n",
        "    print(\"A\")\n",
        "elif 90<=Number<=100:\n",
        "    print(\"A+\")\n",
        "else:\n",
        "    print(\"Please enter Positive Number.\")"
      ],
      "metadata": {
        "id": "JPCDfMNB-LDQ"
      },
      "execution_count": null,
      "outputs": []
    },
    {
      "cell_type": "markdown",
      "source": [
        "**Day-8**\n",
        "\n",
        "Describe Day-7 excercise Question solve"
      ],
      "metadata": {
        "id": "18mQ4j7KbDPJ"
      }
    },
    {
      "cell_type": "markdown",
      "source": [
        "**Day-9**\n",
        "\n",
        "**Loop**"
      ],
      "metadata": {
        "id": "rn7EPMrdbW9g"
      }
    },
    {
      "cell_type": "markdown",
      "source": [
        "1) Display Number from -100 to -10 using for loop."
      ],
      "metadata": {
        "id": "Dg3qM6VFbgws"
      }
    },
    {
      "cell_type": "code",
      "source": [
        "for i in range(-100,-9):\n",
        "  print(i)"
      ],
      "metadata": {
        "id": "hLq_5B0abWGY"
      },
      "execution_count": null,
      "outputs": []
    },
    {
      "cell_type": "markdown",
      "source": [
        "2) Write a program to sum all prime Numbers within range 10 to 1000."
      ],
      "metadata": {
        "id": "G0SEXVtwcAg8"
      }
    },
    {
      "cell_type": "code",
      "source": [
        "x=0\n",
        "for i in range(10,1001):\n",
        "    if i%2!=0 and i%3!=0 and i%5!=0:\n",
        "        x+=i\n",
        "print(x)\n"
      ],
      "metadata": {
        "colab": {
          "base_uri": "https://localhost:8080/"
        },
        "id": "pZUum5oDcr_U",
        "outputId": "66ef0439-591e-4f06-a9e5-48db1a632588"
      },
      "execution_count": null,
      "outputs": [
        {
          "output_type": "stream",
          "name": "stdout",
          "text": [
            "132660\n"
          ]
        }
      ]
    },
    {
      "cell_type": "markdown",
      "source": [
        "3) Find the factorial of a n!"
      ],
      "metadata": {
        "id": "2_noHSDpeB30"
      }
    },
    {
      "cell_type": "code",
      "source": [
        "n=int(input())\n",
        "y=1\n",
        "for i in range(1,n+1):\n",
        "    y*=i\n",
        "print(y)\n"
      ],
      "metadata": {
        "id": "lt0Y18Y1eLb6"
      },
      "execution_count": null,
      "outputs": []
    },
    {
      "cell_type": "markdown",
      "source": [
        "4) Reverse a given integer Number 27956240710"
      ],
      "metadata": {
        "id": "tWeVJnQQiF0L"
      }
    },
    {
      "cell_type": "code",
      "source": [
        "x=str(27956240710)\n",
        "y=x[::-1]\n",
        "print(y)\n",
        "\n",
        "\n"
      ],
      "metadata": {
        "id": "nxoZnGz_iZzv"
      },
      "execution_count": null,
      "outputs": []
    },
    {
      "cell_type": "markdown",
      "source": [
        "**Day-10**\n",
        "\n",
        "**While Loop**"
      ],
      "metadata": {
        "id": "Cenrd4yyR4Dp"
      }
    },
    {
      "cell_type": "markdown",
      "source": [
        "1) Display Numbers from -100 to -10 using while loop\n"
      ],
      "metadata": {
        "id": "N8ELLw0iSDcm"
      }
    },
    {
      "cell_type": "code",
      "source": [
        "x= -100\n",
        "while x<=-10:\n",
        "    print(x)\n",
        "    x+=1 "
      ],
      "metadata": {
        "id": "laMpWQQnR3po"
      },
      "execution_count": null,
      "outputs": []
    },
    {
      "cell_type": "markdown",
      "source": [
        "2) Write a program to sum all prime Numbers within range 10 to 1000."
      ],
      "metadata": {
        "id": "E4eDOgjeSPKD"
      }
    },
    {
      "cell_type": "code",
      "source": [
        "x=10\n",
        "y=0\n",
        "while x<=1000:\n",
        "    if x%2!=0 and x%3!=0 and x%5!=0:\n",
        "        y+=x \n",
        "    x+=1\n",
        "print(y)"
      ],
      "metadata": {
        "id": "s42Be7v-Sdl2"
      },
      "execution_count": null,
      "outputs": []
    },
    {
      "cell_type": "markdown",
      "source": [
        "3) Find the Factorial of a N! [hint: n=7 means 7*6*5*4*3*2*1]"
      ],
      "metadata": {
        "id": "baE_xsw9FfIF"
      }
    },
    {
      "cell_type": "code",
      "source": [
        "n=int(input(\"Enter a Number: \"))\n",
        "x=1\n",
        "y=1\n",
        "while x<=n:  \n",
        "    y*=x\n",
        "    x+=1\n",
        "print(y)  \n",
        "     "
      ],
      "metadata": {
        "id": "9GvwwcVTF5WL"
      },
      "execution_count": null,
      "outputs": []
    },
    {
      "cell_type": "markdown",
      "source": [
        "**Day-11**\n",
        "\n",
        "**Nested Loop**\n",
        "\n",
        "Describe about Nested Loop"
      ],
      "metadata": {
        "id": "ToY__LUfMhax"
      }
    }
  ],
  "metadata": {
    "colab": {
      "provenance": []
    },
    "kernelspec": {
      "display_name": "Python 3",
      "name": "python3"
    },
    "language_info": {
      "name": "python"
    }
  },
  "nbformat": 4,
  "nbformat_minor": 0
}