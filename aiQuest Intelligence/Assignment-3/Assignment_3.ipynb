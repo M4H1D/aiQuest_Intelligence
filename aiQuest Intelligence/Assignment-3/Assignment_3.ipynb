{
  "nbformat": 4,
  "nbformat_minor": 0,
  "metadata": {
    "colab": {
      "provenance": []
    },
    "kernelspec": {
      "name": "python3",
      "display_name": "Python 3"
    },
    "language_info": {
      "name": "python"
    }
  },
  "cells": [
    {
      "cell_type": "markdown",
      "source": [
        "# input function\n"
      ],
      "metadata": {
        "id": "3smjcON14piQ"
      }
    },
    {
      "cell_type": "code",
      "source": [
        "print(\"Hello Mahidul\")"
      ],
      "metadata": {
        "colab": {
          "base_uri": "https://localhost:8080/"
        },
        "id": "sm3lgiZ_4rIJ",
        "outputId": "ec149822-f9db-4a6b-c9c2-3fc29b63852e"
      },
      "execution_count": null,
      "outputs": [
        {
          "output_type": "stream",
          "name": "stdout",
          "text": [
            "Hello Mahidul\n"
          ]
        }
      ]
    },
    {
      "cell_type": "code",
      "source": [
        "x=input()\n",
        "y=input()"
      ],
      "metadata": {
        "colab": {
          "base_uri": "https://localhost:8080/"
        },
        "id": "RikE5wKL42tB",
        "outputId": "142dc4ab-344c-47cc-ee2b-38e9edcea7d6"
      },
      "execution_count": null,
      "outputs": [
        {
          "name": "stdout",
          "output_type": "stream",
          "text": [
            "1000\n",
            "1000\n"
          ]
        }
      ]
    },
    {
      "cell_type": "code",
      "source": [
        "x+y"
      ],
      "metadata": {
        "colab": {
          "base_uri": "https://localhost:8080/",
          "height": 36
        },
        "id": "W0xhqZ7m5B6x",
        "outputId": "d6dfa735-e202-48b7-8f44-b76d69bd387a"
      },
      "execution_count": null,
      "outputs": [
        {
          "output_type": "execute_result",
          "data": {
            "text/plain": [
              "'10001000'"
            ],
            "application/vnd.google.colaboratory.intrinsic+json": {
              "type": "string"
            }
          },
          "metadata": {},
          "execution_count": 3
        }
      ]
    },
    {
      "cell_type": "code",
      "source": [
        "x=int(input())\n",
        "y=int(input())\n",
        "x+y"
      ],
      "metadata": {
        "colab": {
          "base_uri": "https://localhost:8080/"
        },
        "id": "XQi3h-Ia5jRx",
        "outputId": "c7e648aa-b173-4366-f3a8-e8e8d0101391"
      },
      "execution_count": null,
      "outputs": [
        {
          "name": "stdout",
          "output_type": "stream",
          "text": [
            "500\n",
            "500\n"
          ]
        },
        {
          "output_type": "execute_result",
          "data": {
            "text/plain": [
              "1000"
            ]
          },
          "metadata": {},
          "execution_count": 1
        }
      ]
    },
    {
      "cell_type": "code",
      "source": [
        "type(x)"
      ],
      "metadata": {
        "colab": {
          "base_uri": "https://localhost:8080/"
        },
        "id": "EuBh2_pK52bQ",
        "outputId": "709ffb1c-90e8-4971-d470-2a817a8f88e3"
      },
      "execution_count": null,
      "outputs": [
        {
          "output_type": "execute_result",
          "data": {
            "text/plain": [
              "int"
            ]
          },
          "metadata": {},
          "execution_count": 2
        }
      ]
    },
    {
      "cell_type": "code",
      "source": [
        "float(y)"
      ],
      "metadata": {
        "colab": {
          "base_uri": "https://localhost:8080/"
        },
        "id": "6tPd-pZM5_H7",
        "outputId": "c2f86c09-179c-4728-b4bc-bd271e47f756"
      },
      "execution_count": null,
      "outputs": [
        {
          "output_type": "execute_result",
          "data": {
            "text/plain": [
              "500.0"
            ]
          },
          "metadata": {},
          "execution_count": 3
        }
      ]
    },
    {
      "cell_type": "markdown",
      "source": [
        "# Python Data Structure\n"
      ],
      "metadata": {
        "id": "Ums_AQej7F_M"
      }
    },
    {
      "cell_type": "code",
      "source": [
        "li=[1,2,3,4,5,\"Bangladesh\",\"Mahid\",(1,2,3),{5,6,7,8},[5,7]]\n",
        "li"
      ],
      "metadata": {
        "colab": {
          "base_uri": "https://localhost:8080/"
        },
        "id": "8ac6mhhR7Kq0",
        "outputId": "07aa3b32-3333-4087-b6b9-44786d000c9e"
      },
      "execution_count": null,
      "outputs": [
        {
          "output_type": "execute_result",
          "data": {
            "text/plain": [
              "[1, 2, 3, 4, 5, 'Bangladesh', 'Mahid', (1, 2, 3), {5, 6, 7, 8}, [5, 7]]"
            ]
          },
          "metadata": {},
          "execution_count": 2
        }
      ]
    },
    {
      "cell_type": "code",
      "source": [
        "li[-3][-1]"
      ],
      "metadata": {
        "colab": {
          "base_uri": "https://localhost:8080/"
        },
        "id": "d_emZx0lj3GV",
        "outputId": "c7f962b6-7bdd-4a51-d870-634aa57fb9f7"
      },
      "execution_count": null,
      "outputs": [
        {
          "output_type": "execute_result",
          "data": {
            "text/plain": [
              "3"
            ]
          },
          "metadata": {},
          "execution_count": 5
        }
      ]
    },
    {
      "cell_type": "code",
      "source": [
        "len(li)"
      ],
      "metadata": {
        "colab": {
          "base_uri": "https://localhost:8080/"
        },
        "id": "u_evpJC9ktJc",
        "outputId": "0c45d26b-7049-4c57-f8bb-0034c08f99ae"
      },
      "execution_count": null,
      "outputs": [
        {
          "output_type": "execute_result",
          "data": {
            "text/plain": [
              "10"
            ]
          },
          "metadata": {},
          "execution_count": 6
        }
      ]
    },
    {
      "cell_type": "code",
      "source": [
        "li1=[]\n",
        "for i in range(1,11):\n",
        "  li1.append(i)\n",
        "print(li1)"
      ],
      "metadata": {
        "colab": {
          "base_uri": "https://localhost:8080/"
        },
        "id": "3dYDdY6wk4Ag",
        "outputId": "f044a42f-4981-44a5-d8ad-fe1c7e444d68"
      },
      "execution_count": null,
      "outputs": [
        {
          "output_type": "stream",
          "name": "stdout",
          "text": [
            "[1, 2, 3, 4, 5, 6, 7, 8, 9, 10]\n"
          ]
        }
      ]
    },
    {
      "cell_type": "markdown",
      "source": [
        "# List Comprehension"
      ],
      "metadata": {
        "id": "GFl57cHmqS4_"
      }
    },
    {
      "cell_type": "code",
      "source": [
        "li3=[x for x in range(1,11) if x%2!=0]\n",
        "print(li3)"
      ],
      "metadata": {
        "id": "8ay76wHnosvE",
        "colab": {
          "base_uri": "https://localhost:8080/"
        },
        "outputId": "eb0b1838-368f-4362-f389-131e32f4a6f3"
      },
      "execution_count": null,
      "outputs": [
        {
          "output_type": "stream",
          "name": "stdout",
          "text": [
            "[1, 3, 5, 7, 9]\n"
          ]
        }
      ]
    },
    {
      "cell_type": "markdown",
      "source": [
        "# Tuple"
      ],
      "metadata": {
        "id": "TcKYWS8pvBqJ"
      }
    },
    {
      "cell_type": "code",
      "source": [
        "tup=(1,2,3,4,5)\n",
        "print(tuple(list(tup)))"
      ],
      "metadata": {
        "colab": {
          "base_uri": "https://localhost:8080/"
        },
        "id": "X_0XFmy6vJR1",
        "outputId": "b862831b-7905-42bb-b801-08928aa0ab3c"
      },
      "execution_count": null,
      "outputs": [
        {
          "output_type": "stream",
          "name": "stdout",
          "text": [
            "(1, 2, 3, 4, 5)\n"
          ]
        }
      ]
    },
    {
      "cell_type": "markdown",
      "source": [
        "# Dictionary"
      ],
      "metadata": {
        "id": "yOlKnY71wMxg"
      }
    },
    {
      "cell_type": "code",
      "source": [
        "dic = {\n",
        "    \"Name\":\"Mahid\",\n",
        "    \"Varsity\":\"National University\",\n",
        "    \"Year\":\"1st Year\"\n",
        "}\n",
        "print(dic)"
      ],
      "metadata": {
        "id": "EiHwsn8dwem0",
        "colab": {
          "base_uri": "https://localhost:8080/"
        },
        "outputId": "df5b9d92-1a63-497e-9058-d96dee8ce925"
      },
      "execution_count": 3,
      "outputs": [
        {
          "output_type": "stream",
          "name": "stdout",
          "text": [
            "{'Name': 'Mahid', 'Varsity': 'National University', 'Year': '1st Year'}\n"
          ]
        }
      ]
    }
  ]
}